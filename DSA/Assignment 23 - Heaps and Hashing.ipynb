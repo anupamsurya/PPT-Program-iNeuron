{
 "cells": [
  {
   "cell_type": "markdown",
   "id": "07cd1c5b",
   "metadata": {},
   "source": [
    "# Assignment 23 - Heaps and Hashing"
   ]
  },
  {
   "cell_type": "markdown",
   "id": "c31d4fcb",
   "metadata": {},
   "source": [
    "Question-1:\n",
    "\n",
    "Given preorder of a binary tree, calculate its **[depth(or height)](https://www.geeksforgeeks.org/write-a-c-program-to-find-the-maximum-depth-or-height-of-a-tree/)** [starting from depth 0]. The preorder is given as a string with two possible characters.\n",
    "\n",
    "1. ‘l’ denotes the leaf\n",
    "2. ‘n’ denotes internal node\n",
    "\n",
    "The given tree can be seen as a full binary tree where every node has 0 or two children. The two children of a node can ‘n’ or ‘l’ or mix of both."
   ]
  },
  {
   "cell_type": "code",
   "execution_count": 7,
   "id": "b7130260",
   "metadata": {},
   "outputs": [
    {
     "name": "stdout",
     "output_type": "stream",
     "text": [
      "10 20 35 \n"
     ]
    }
   ],
   "source": [
    "class Node:\n",
    "    def __init__(self, val):\n",
    "        self.val = val\n",
    "        self.left = None\n",
    "        self.right = None\n",
    "        self.prev = None\n",
    "        self.next = None\n",
    "\n",
    "def convertToDLL(root):\n",
    "    def convertToDLLHelper(root, prev, head):\n",
    "        if root is None:\n",
    "            return head\n",
    "\n",
    "        head = convertToDLLHelper(root.left, prev, head)\n",
    "\n",
    "        if prev is not None:\n",
    "            prev.next = root\n",
    "            root.prev = prev\n",
    "        else:\n",
    "            head = root\n",
    "\n",
    "        prev = root\n",
    "        head = convertToDLLHelper(root.right, prev, head)\n",
    "\n",
    "        return head\n",
    "\n",
    "    return convertToDLLHelper(root, None, None)\n",
    "\n",
    "def printDLL(head):\n",
    "    while head is not None:\n",
    "        print(head.val, end=\" \")\n",
    "        head = head.next\n",
    "    print()\n",
    "\n",
    "# Create the binary tree\n",
    "root = Node(10)\n",
    "root.left = Node(5)\n",
    "root.right = Node(20)\n",
    "root.right.left = Node(30)\n",
    "root.right.right = Node(35)\n",
    "\n",
    "# Convert the binary tree to a doubly linked list\n",
    "head = convertToDLL(root)\n",
    "\n",
    "# Print the doubly linked list\n",
    "printDLL(head)\n",
    "# Output: 5 10 30 20 35"
   ]
  },
  {
   "cell_type": "markdown",
   "id": "bbaf6625",
   "metadata": {},
   "source": [
    "Question-2:\n",
    "\n",
    "Given a Binary tree, the task is to print the **left view** of the Binary Tree. The left view of a Binary Tree is a set of leftmost nodes for every level."
   ]
  },
  {
   "cell_type": "code",
   "execution_count": 6,
   "id": "9d1572eb",
   "metadata": {},
   "outputs": [
    {
     "name": "stdout",
     "output_type": "stream",
     "text": [
      "[4, 5, 3, 6]\n",
      "[1, 2, 4, 5, 6]\n"
     ]
    }
   ],
   "source": [
    "from collections import deque\n",
    "\n",
    "class Node:\n",
    "    def __init__(self, data):\n",
    "        self.data = data\n",
    "        self.left = None\n",
    "        self.right = None\n",
    "\n",
    "def left_view(root):\n",
    "    if root is None:\n",
    "        return []\n",
    "\n",
    "    left_view = []\n",
    "    queue = deque([(root, 0)])\n",
    "    current_level = -1\n",
    "\n",
    "    while queue:\n",
    "        node, level = queue.popleft()\n",
    "\n",
    "        if level > current_level:\n",
    "            left_view.append(node.data)\n",
    "            current_level = level\n",
    "\n",
    "        if node.left:\n",
    "            queue.append((node.left, level + 1))\n",
    "        if node.right:\n",
    "            queue.append((node.right, level + 1))\n",
    "\n",
    "    return left_view\n",
    "\n",
    "\n",
    "# Example 1\n",
    "root1 = Node(4)\n",
    "root1.left = Node(5)\n",
    "root1.right = Node(2)\n",
    "root1.right.left = Node(3)\n",
    "root1.right.right = Node(1)\n",
    "root1.right.left.left = Node(6)\n",
    "root1.right.left.right = Node(7)\n",
    "\n",
    "print(left_view(root1))  \n",
    "\n",
    "# Example 2\n",
    "root2 = Node(1)\n",
    "root2.left = Node(2)\n",
    "root2.right = Node(3)\n",
    "root2.left.right = Node(4)\n",
    "root2.left.right.right = Node(5)\n",
    "root2.left.right.right.right = Node(6)\n",
    "\n",
    "print(left_view(root2))"
   ]
  },
  {
   "cell_type": "markdown",
   "id": "bc30087e",
   "metadata": {},
   "source": [
    "Question-3:\n",
    "\n",
    "Given a Binary Tree, print the Right view of it.\n",
    "\n",
    "The right view of a Binary Tree is a set of nodes visible when the tree is visited from the Right side."
   ]
  },
  {
   "cell_type": "code",
   "execution_count": 5,
   "id": "2043cd93",
   "metadata": {},
   "outputs": [
    {
     "name": "stdout",
     "output_type": "stream",
     "text": [
      "[1, 3, 7, 8]\n",
      "[1, 8, 7]\n"
     ]
    }
   ],
   "source": [
    "from collections import deque\n",
    "\n",
    "class Node:\n",
    "    def __init__(self, data):\n",
    "        self.data = data\n",
    "        self.left = None\n",
    "        self.right = None\n",
    "\n",
    "def right_view(root):\n",
    "    if root is None:\n",
    "        return []\n",
    "\n",
    "    right_view = []\n",
    "    queue = deque([(root, 0)])\n",
    "    current_level = -1\n",
    "\n",
    "    while queue:\n",
    "        node, level = queue.popleft()\n",
    "\n",
    "        if level > current_level:\n",
    "            right_view.append(node.data)\n",
    "            current_level = level\n",
    "\n",
    "        if node.right:\n",
    "            queue.append((node.right, level + 1))\n",
    "        if node.left:\n",
    "            queue.append((node.left, level + 1))\n",
    "\n",
    "    return right_view\n",
    "\n",
    "\n",
    "# Example 1\n",
    "root1 = Node(1)\n",
    "root1.left = Node(2)\n",
    "root1.right = Node(3)\n",
    "root1.left.left = Node(4)\n",
    "root1.left.right = Node(5)\n",
    "root1.right.left = Node(6)\n",
    "root1.right.right = Node(7)\n",
    "root1.right.right.right = Node(8)\n",
    "\n",
    "print(right_view(root1)) \n",
    "\n",
    "# Example 2\n",
    "root2 = Node(1)\n",
    "root2.left = Node(8)\n",
    "root2.left.left = Node(7)\n",
    "\n",
    "print(right_view(root2))"
   ]
  },
  {
   "cell_type": "markdown",
   "id": "d935cdb5",
   "metadata": {},
   "source": [
    "Question-4:\n",
    "\n",
    "Given a Binary Tree, The task is to print the **bottom view** from left to right. A node **x** is there in output if x is the bottommost node at its horizontal distance. The horizontal distance of the left child of a node x is equal to a horizontal distance of x minus 1, and that of a right child is the horizontal distance of x plus 1."
   ]
  },
  {
   "cell_type": "code",
   "execution_count": 4,
   "id": "49b1b124",
   "metadata": {},
   "outputs": [
    {
     "name": "stdout",
     "output_type": "stream",
     "text": [
      "[5, 10, 3, 14, 25]\n",
      "[5, 10, 4, 14, 25]\n"
     ]
    }
   ],
   "source": [
    "from collections import deque\n",
    "\n",
    "class Node:\n",
    "    def __init__(self, data):\n",
    "        self.data = data\n",
    "        self.left = None\n",
    "        self.right = None\n",
    "\n",
    "def bottom_view(root):\n",
    "    if root is None:\n",
    "        return []\n",
    "\n",
    "    bottom_view_map = {}\n",
    "    queue = deque([(root, 0)])\n",
    "\n",
    "    while queue:\n",
    "        node, distance = queue.popleft()\n",
    "\n",
    "        bottom_view_map[distance] = node.data\n",
    "\n",
    "        if node.left:\n",
    "            queue.append((node.left, distance - 1))\n",
    "        if node.right:\n",
    "            queue.append((node.right, distance + 1))\n",
    "\n",
    "    sorted_distances = sorted(bottom_view_map.keys())\n",
    "    bottom_view = [bottom_view_map[distance] for distance in sorted_distances]\n",
    "\n",
    "    return bottom_view\n",
    "\n",
    "\n",
    "# Example 1\n",
    "root1 = Node(20)\n",
    "root1.left = Node(8)\n",
    "root1.right = Node(22)\n",
    "root1.left.left = Node(5)\n",
    "root1.left.right = Node(3)\n",
    "root1.right.right = Node(25)\n",
    "root1.left.right.left = Node(10)\n",
    "root1.left.right.right = Node(14)\n",
    "\n",
    "print(bottom_view(root1))  \n",
    "\n",
    "# Example 2\n",
    "root2 = Node(20)\n",
    "root2.left = Node(8)\n",
    "root2.right = Node(22)\n",
    "root2.left.left = Node(5)\n",
    "root2.left.right = Node(3)\n",
    "root2.right.left = Node(4)\n",
    "root2.right.right = Node(25)\n",
    "root2.left.right.left = Node(10)\n",
    "root2.left.right.right = Node(14)\n",
    "\n",
    "print(bottom_view(root2))"
   ]
  },
  {
   "cell_type": "code",
   "execution_count": null,
   "id": "f9f84f51",
   "metadata": {},
   "outputs": [],
   "source": []
  }
 ],
 "metadata": {
  "kernelspec": {
   "display_name": "Python 3 (ipykernel)",
   "language": "python",
   "name": "python3"
  },
  "language_info": {
   "codemirror_mode": {
    "name": "ipython",
    "version": 3
   },
   "file_extension": ".py",
   "mimetype": "text/x-python",
   "name": "python",
   "nbconvert_exporter": "python",
   "pygments_lexer": "ipython3",
   "version": "3.9.12"
  }
 },
 "nbformat": 4,
 "nbformat_minor": 5
}
