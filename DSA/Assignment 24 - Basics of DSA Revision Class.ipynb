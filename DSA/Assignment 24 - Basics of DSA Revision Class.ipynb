{
 "cells": [
  {
   "cell_type": "markdown",
   "id": "7f037922",
   "metadata": {},
   "source": [
    "# Assignment 24 - Basics of DSA | Revision Class"
   ]
  },
  {
   "cell_type": "markdown",
   "id": "a30f4f76",
   "metadata": {},
   "source": [
    "1. **Roman to Integer**\n",
    "\n",
    "Roman numerals are represented by seven different symbols: `I`, `V`, `X`, `L`, `C`, `D` and `M`."
   ]
  },
  {
   "cell_type": "code",
   "execution_count": 2,
   "id": "e72e189c",
   "metadata": {},
   "outputs": [
    {
     "name": "stdout",
     "output_type": "stream",
     "text": [
      "3\n",
      "58\n"
     ]
    }
   ],
   "source": [
    "def roman_to_int(s):\n",
    "    symbol_values = {\n",
    "        'I': 1,\n",
    "        'V': 5,\n",
    "        'X': 10,\n",
    "        'L': 50,\n",
    "        'C': 100,\n",
    "        'D': 500,\n",
    "        'M': 1000\n",
    "    }\n",
    "\n",
    "    total = 0\n",
    "    n = len(s)\n",
    "\n",
    "    for i in range(n):\n",
    "        if i < n - 1 and symbol_values[s[i]] < symbol_values[s[i+1]]:\n",
    "            total -= symbol_values[s[i]]\n",
    "        else:\n",
    "            total += symbol_values[s[i]]\n",
    "\n",
    "    return total\n",
    "\n",
    "\n",
    "print(roman_to_int(\"III\"))    \n",
    "print(roman_to_int(\"LVIII\"))   "
   ]
  },
  {
   "cell_type": "markdown",
   "id": "58c13f3b",
   "metadata": {},
   "source": [
    "2. **Longest Substring Without Repeating Characters**\n",
    "\n",
    "Given a string `s`, find the length of the **longest substring** without repeating characters.\n",
    "\n",
    "**Example 1:**\n",
    "Input: s = \"abcabcbb\"\n",
    "Output: 3\n",
    "Explanation: The answer is \"abc\", with the length of 3."
   ]
  },
  {
   "cell_type": "code",
   "execution_count": 3,
   "id": "3f04ba2a",
   "metadata": {},
   "outputs": [
    {
     "name": "stdout",
     "output_type": "stream",
     "text": [
      "3\n",
      "1\n",
      "3\n"
     ]
    }
   ],
   "source": [
    "def length_of_longest_substring(s):\n",
    "    max_length = 0\n",
    "    start = 0\n",
    "    seen = set()\n",
    "\n",
    "    for i in range(len(s)):\n",
    "        while s[i] in seen:\n",
    "            seen.remove(s[start])\n",
    "            start += 1\n",
    "        seen.add(s[i])\n",
    "        max_length = max(max_length, i - start + 1)\n",
    "\n",
    "    return max_length\n",
    "\n",
    "\n",
    "print(length_of_longest_substring(\"abcabcbb\"))   \n",
    "print(length_of_longest_substring(\"bbbbb\"))      \n",
    "print(length_of_longest_substring(\"pwwkew\"))    "
   ]
  },
  {
   "cell_type": "markdown",
   "id": "154c3e72",
   "metadata": {},
   "source": [
    " 3. **Majority Element**\n",
    "\n",
    "Given an array `nums` of size `n`, return *the majority element*.\n",
    "\n",
    "The majority element is the element that appears more than `⌊n / 2⌋` times. You may assume that the majority element always exists in the array.\n",
    "\n",
    "**Example 1:**\n",
    "\n",
    "Input: nums = [3,2,3]\n",
    "Output: 3"
   ]
  },
  {
   "cell_type": "code",
   "execution_count": 9,
   "id": "dba880c2",
   "metadata": {},
   "outputs": [],
   "source": [
    "def majority_element(nums):\n",
    "    count = 0\n",
    "    majority = None\n",
    "\n",
    "    for num in nums:\n",
    "        if count == 0:\n",
    "            majority = num\n",
    "        if num == majority:\n",
    "            count += 1\n",
    "        else:\n",
    "            count -= 1\n",
    "\n",
    "    return majority"
   ]
  },
  {
   "cell_type": "markdown",
   "id": "f568af97",
   "metadata": {},
   "source": [
    "4. **Group Anagram**\n",
    "\n",
    "Given an array of strings `strs`, group **the anagrams** together. You can return the answer in **any order**.\n",
    "\n",
    "An **Anagram** is a word or phrase formed by rearranging the letters of a different word or phrase, typically using all the original letters exactly once.\n",
    "\n",
    "**Example 1:**\n",
    "\n",
    "Input: strs = [\"eat\",\"tea\",\"tan\",\"ate\",\"nat\",\"bat\"]\n",
    "\n",
    "Output: [[\"bat\"],[\"nat\",\"tan\"],[\"ate\",\"eat\",\"tea\"]]"
   ]
  },
  {
   "cell_type": "code",
   "execution_count": 12,
   "id": "3dda125b",
   "metadata": {},
   "outputs": [
    {
     "name": "stdout",
     "output_type": "stream",
     "text": [
      "3\n",
      "2\n"
     ]
    }
   ],
   "source": [
    "def majority_element(nums):\n",
    "    count = 0\n",
    "    majority = None\n",
    "\n",
    "    for num in nums:\n",
    "        if count == 0:\n",
    "            majority = num\n",
    "        if num == majority:\n",
    "            count += 1\n",
    "        else:\n",
    "            count -= 1\n",
    "\n",
    "    return majority\n",
    "\n",
    "\n",
    "print(majority_element([3, 2, 3]))                    \n",
    "print(majority_element([2, 2, 1, 1, 1, 2, 2]))   "
   ]
  },
  {
   "cell_type": "markdown",
   "id": "bebd30aa",
   "metadata": {},
   "source": [
    "5. **Ugly Numbers**\n",
    "\n",
    "An **ugly number** is a positive integer whose prime factors are limited to `2`, `3`, and `5`.\n",
    "\n",
    "Given an integer `n`, return *the* `nth` ***ugly number***."
   ]
  },
  {
   "cell_type": "code",
   "execution_count": 11,
   "id": "74727b8e",
   "metadata": {},
   "outputs": [
    {
     "name": "stdout",
     "output_type": "stream",
     "text": [
      "12\n",
      "1\n"
     ]
    }
   ],
   "source": [
    "def nth_ugly_number(n):\n",
    "    ugly = [0] * n\n",
    "    ugly[0] = 1\n",
    "    p2 = p3 = p5 = 0\n",
    "\n",
    "    for i in range(1, n):\n",
    "        next_ugly = min(ugly[p2] * 2, ugly[p3] * 3, ugly[p5] * 5)\n",
    "        ugly[i] = next_ugly\n",
    "\n",
    "        if next_ugly == ugly[p2] * 2:\n",
    "            p2 += 1\n",
    "        if next_ugly == ugly[p3] * 3:\n",
    "            p3 += 1\n",
    "        if next_ugly == ugly[p5] * 5:\n",
    "            p5 += 1\n",
    "\n",
    "    return ugly[n - 1]\n",
    "\n",
    "\n",
    "print(nth_ugly_number(10)) \n",
    "print(nth_ugly_number(1))"
   ]
  },
  {
   "cell_type": "markdown",
   "id": "17b0653c",
   "metadata": {},
   "source": [
    "6. **Top K Frequent Words**\n",
    "\n",
    "Given an array of strings `words` and an integer `k`, return *the* `k` *most frequent strings*.\n",
    "\n",
    "Return the answer **sorted** by **the frequency** from highest to lowest. Sort the words with the same frequency by their **lexicographical order**.\n",
    "\n",
    "**Example 1:**\n",
    "\n",
    "Input: words = [\"i\",\"love\",\"leetcode\",\"i\",\"love\",\"coding\"], k = 2\n",
    "\n",
    "Output: [\"i\",\"love\"]\n",
    "\n",
    "Explanation: \"i\" and \"love\" are the two most frequent words.\n",
    "\n",
    "Note that \"i\" comes before \"love\" due to a lower alphabetical order."
   ]
  },
  {
   "cell_type": "code",
   "execution_count": 15,
   "id": "e25c3027",
   "metadata": {},
   "outputs": [],
   "source": [
    "from collections import Counter\n",
    "\n",
    "def top_k_frequent_words(words, k):\n",
    "    word_counts = Counter(words)\n",
    "    unique_words = list(word_counts.keys())\n",
    "    \n",
    "    unique_words.sort(key=lambda word: (-word_counts[word], word))\n",
    "    \n",
    "    return unique_words[:k]"
   ]
  },
  {
   "cell_type": "markdown",
   "id": "73c994c1",
   "metadata": {},
   "source": [
    "7. **Sliding Window Maximum**\n",
    "\n",
    "You are given an array of integers `nums`, there is a sliding window of size `k` which is moving from the very left of the array to the very right. You can only see the `k` numbers in the window. Each time the sliding window moves right by one position.\n",
    "\n",
    "Return *the max sliding window*."
   ]
  },
  {
   "cell_type": "code",
   "execution_count": 17,
   "id": "2ce8e73b",
   "metadata": {},
   "outputs": [
    {
     "name": "stdout",
     "output_type": "stream",
     "text": [
      "[3, 3, 5, 5, 6, 7]\n"
     ]
    }
   ],
   "source": [
    "from collections import deque\n",
    "\n",
    "def max_sliding_window(nums, k):\n",
    "    window = deque()\n",
    "    result = []\n",
    "\n",
    "    for i, num in enumerate(nums):\n",
    "        while window and window[0] <= i - k:\n",
    "            window.popleft()\n",
    "        while window and nums[window[-1]] <= num:\n",
    "            window.pop()\n",
    "        window.append(i)\n",
    "        if i >= k - 1:\n",
    "            result.append(nums[window[0]])\n",
    "\n",
    "    return result\n",
    "\n",
    "\n",
    "print(max_sliding_window([1, 3, -1, -3, 5, 3, 6, 7], 3))"
   ]
  },
  {
   "cell_type": "markdown",
   "id": "58fe62e1",
   "metadata": {},
   "source": [
    "8. **Find K Closest Elements**\n",
    "\n",
    "Given a **sorted** integer array `arr`, two integers `k` and `x`, return the `k` closest integers to `x` in the array. The result should also be sorted in ascending order.\n",
    "\n",
    "An integer `a` is closer to `x` than an integer `b` if:\n",
    "\n",
    "- `|a - x| < |b - x|`, or\n",
    "- `|a - x| == |b - x|` and `a < b`\n",
    "\n",
    "**Example 1:**\n",
    "\n",
    "Input: arr = [1,2,3,4,5], k = 4, x = 3\n",
    "Output: [1,2,3,4]"
   ]
  },
  {
   "cell_type": "code",
   "execution_count": 18,
   "id": "84f5f559",
   "metadata": {},
   "outputs": [
    {
     "name": "stdout",
     "output_type": "stream",
     "text": [
      "[2, 3, 4, 5]\n",
      "[1, 2, 3, 4]\n"
     ]
    }
   ],
   "source": [
    "def find_closest_elements(arr, k, x):\n",
    "    left = 0\n",
    "    right = len(arr) - 1\n",
    "\n",
    "    while right - left + 1 > k:\n",
    "        if x - arr[left] >= arr[right] - x:\n",
    "            left += 1\n",
    "        else:\n",
    "            right -= 1\n",
    "\n",
    "    return arr[left:right+1]\n",
    "\n",
    "\n",
    "print(find_closest_elements([1, 2, 3, 4, 5], 4, 3))\n",
    "\n",
    "\n",
    "print(find_closest_elements([1, 2, 3, 4, 5], 4, -1))"
   ]
  },
  {
   "cell_type": "code",
   "execution_count": null,
   "id": "69dc17bc",
   "metadata": {},
   "outputs": [],
   "source": []
  }
 ],
 "metadata": {
  "kernelspec": {
   "display_name": "Python 3 (ipykernel)",
   "language": "python",
   "name": "python3"
  },
  "language_info": {
   "codemirror_mode": {
    "name": "ipython",
    "version": 3
   },
   "file_extension": ".py",
   "mimetype": "text/x-python",
   "name": "python",
   "nbconvert_exporter": "python",
   "pygments_lexer": "ipython3",
   "version": "3.9.12"
  }
 },
 "nbformat": 4,
 "nbformat_minor": 5
}
