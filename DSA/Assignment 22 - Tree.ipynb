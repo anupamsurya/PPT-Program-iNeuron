{
 "cells": [
  {
   "cell_type": "markdown",
   "id": "f129bacc",
   "metadata": {},
   "source": [
    "# Assignment 22 - Tree"
   ]
  },
  {
   "cell_type": "raw",
   "id": "477a774e",
   "metadata": {},
   "source": [
    "Question-1:\n",
    "\n",
    "Given a Binary Tree (Bt), convert it to a Doubly Linked List(DLL). The left and right pointers in nodes are to be used as previous and next pointers respectively in converted DLL. The order of nodes in DLL must be the same as in Inorder for the given Binary Tree. The first node of Inorder traversal (leftmost node in BT) must be the head node of the DLL."
   ]
  },
  {
   "cell_type": "code",
   "execution_count": 2,
   "id": "3d697164",
   "metadata": {},
   "outputs": [
    {
     "name": "stdout",
     "output_type": "stream",
     "text": [
      "10 20 35 \n"
     ]
    }
   ],
   "source": [
    "class Node:\n",
    "    def __init__(self, val):\n",
    "        self.val = val\n",
    "        self.left = None\n",
    "        self.right = None\n",
    "        self.prev = None\n",
    "        self.next = None\n",
    "\n",
    "def convertToDLL(root):\n",
    "    def convertToDLLHelper(root, prev, head):\n",
    "        if root is None:\n",
    "            return head\n",
    "\n",
    "        head = convertToDLLHelper(root.left, prev, head)\n",
    "\n",
    "        if prev is not None:\n",
    "            prev.next = root\n",
    "            root.prev = prev\n",
    "        else:\n",
    "            head = root\n",
    "\n",
    "        prev = root\n",
    "        head = convertToDLLHelper(root.right, prev, head)\n",
    "\n",
    "        return head\n",
    "\n",
    "    return convertToDLLHelper(root, None, None)\n",
    "\n",
    "def printDLL(head):\n",
    "    while head is not None:\n",
    "        print(head.val, end=\" \")\n",
    "        head = head.next\n",
    "    print()\n",
    "\n",
    "# Create the binary tree\n",
    "root = Node(10)\n",
    "root.left = Node(5)\n",
    "root.right = Node(20)\n",
    "root.right.left = Node(30)\n",
    "root.right.right = Node(35)\n",
    "\n",
    "# Convert the binary tree to a doubly linked list\n",
    "head = convertToDLL(root)\n",
    "\n",
    "# Print the doubly linked list\n",
    "printDLL(head)\n",
    "# Output: 5 10 30 20 35"
   ]
  },
  {
   "cell_type": "raw",
   "id": "1ac73f8b",
   "metadata": {},
   "source": [
    "Question-2\n",
    "\n",
    "A Given a binary tree, the task is to flip the binary tree towards the right direction that is clockwise. See the below examples to see the transformation.\n",
    "\n",
    "In the flip operation, the leftmost node becomes the root of the flipped tree and its parent becomes its right child and the right sibling becomes its left child and the same should be done for all left most nodes recursively."
   ]
  },
  {
   "cell_type": "code",
   "execution_count": 3,
   "id": "8a7b5cde",
   "metadata": {},
   "outputs": [
    {
     "name": "stdout",
     "output_type": "stream",
     "text": [
      "4 5 2 3 6 7 1 "
     ]
    }
   ],
   "source": [
    "class Node:\n",
    "    def __init__(self, val):\n",
    "        self.val = val\n",
    "        self.left = None\n",
    "        self.right = None\n",
    "\n",
    "def flipBinaryTree(root):\n",
    "    if root is None or (root.left is None and root.right is None):\n",
    "        return root\n",
    "\n",
    "    newRoot = flipBinaryTree(root.left)\n",
    "\n",
    "    root.left.left = root.right\n",
    "    root.left.right = root\n",
    "    root.left = root.right = None\n",
    "\n",
    "    return newRoot\n",
    "\n",
    "def printBinaryTree(root):\n",
    "    if root is None:\n",
    "        return\n",
    "\n",
    "    print(root.val, end=\" \")\n",
    "    printBinaryTree(root.left)\n",
    "    printBinaryTree(root.right)\n",
    "\n",
    "# Create the binary tree\n",
    "root = Node(1)\n",
    "root.left = Node(2)\n",
    "root.right = Node(3)\n",
    "root.left.left = Node(4)\n",
    "root.left.right = Node(5)\n",
    "root.right.left = Node(6)\n",
    "root.right.right = Node(7)\n",
    "\n",
    "# Flip the binary tree\n",
    "flippedRoot = flipBinaryTree(root)\n",
    "\n",
    "# Print the flipped binary tree\n",
    "printBinaryTree(flippedRoot)\n"
   ]
  },
  {
   "cell_type": "raw",
   "id": "bacb4941",
   "metadata": {},
   "source": [
    "Question-3:\n",
    "\n",
    "Given a binary tree, print all its root-to-leaf paths without using recursion. For example, consider the following Binary Tree.\n"
   ]
  },
  {
   "cell_type": "code",
   "execution_count": 4,
   "id": "ef11c27b",
   "metadata": {},
   "outputs": [
    {
     "name": "stdout",
     "output_type": "stream",
     "text": [
      "6->3->2\n",
      "6->3->5->7\n",
      "6->3->5->4\n",
      "6->5->4\n"
     ]
    }
   ],
   "source": [
    "class Node:\n",
    "    def __init__(self, val):\n",
    "        self.val = val\n",
    "        self.left = None\n",
    "        self.right = None\n",
    "\n",
    "def printRootToLeafPaths(root):\n",
    "    if root is None:\n",
    "        return\n",
    "\n",
    "    stack = []\n",
    "    stack.append((root, []))\n",
    "\n",
    "    while stack:\n",
    "        node, path = stack.pop()\n",
    "        path.append(node.val)\n",
    "\n",
    "        if node.left is None and node.right is None:\n",
    "            print(\"->\".join(map(str, path)))\n",
    "        \n",
    "        if node.right:\n",
    "            stack.append((node.right, path.copy()))\n",
    "\n",
    "        if node.left:\n",
    "            stack.append((node.left, path.copy()))\n",
    "\n",
    "# Create the binary tree\n",
    "root = Node(6)\n",
    "root.left = Node(3)\n",
    "root.right = Node(5)\n",
    "root.left.left = Node(2)\n",
    "root.left.right = Node(5)\n",
    "root.right.right = Node(4)\n",
    "root.left.right.left = Node(7)\n",
    "root.left.right.right = Node(4)\n",
    "\n",
    "# Print all the root-to-leaf paths\n",
    "printRootToLeafPaths(root)\n"
   ]
  },
  {
   "cell_type": "raw",
   "id": "8caacd3f",
   "metadata": {},
   "source": [
    "Question-4:\n",
    "\n",
    "Given Preorder, Inorder and Postorder traversals of some tree. Write a program to check if they all are of the same tree."
   ]
  },
  {
   "cell_type": "code",
   "execution_count": 5,
   "id": "06b03a1a",
   "metadata": {},
   "outputs": [
    {
     "name": "stdout",
     "output_type": "stream",
     "text": [
      "No\n",
      "No\n"
     ]
    }
   ],
   "source": [
    "class Node:\n",
    "    def __init__(self, val):\n",
    "        self.val = val\n",
    "        self.left = None\n",
    "        self.right = None\n",
    "\n",
    "def isSameTree(preorder, inorder, postorder):\n",
    "    if not preorder and not inorder and not postorder:\n",
    "        return True\n",
    "\n",
    "    if not (preorder and inorder and postorder):\n",
    "        return False\n",
    "\n",
    "    root_val = preorder[0]\n",
    "    idx = inorder.index(root_val)\n",
    "\n",
    "    if inorder[:idx] == postorder[-(len(inorder)-idx):] and inorder[idx+1:] == postorder[:-(len(inorder)-idx-1)]:\n",
    "        left_subtree = isSameTree(preorder[1:idx+1], inorder[:idx], postorder[:-(len(inorder)-idx-1)])\n",
    "        right_subtree = isSameTree(preorder[idx+1:], inorder[idx+1:], postorder[-(len(inorder)-idx):])\n",
    "        return left_subtree and right_subtree\n",
    "\n",
    "    return False\n",
    "\n",
    "# Example 1:\n",
    "preorder1 = [1, 2, 4, 5, 3]\n",
    "inorder1 = [4, 2, 5, 1, 3]\n",
    "postorder1 = [4, 5, 2, 3, 1]\n",
    "if isSameTree(preorder1, inorder1, postorder1):\n",
    "    print(\"Yes\")\n",
    "else:\n",
    "    print(\"No\")\n",
    "\n",
    "\n",
    "# Example 2:\n",
    "preorder2 = [1, 5, 4, 2, 3]\n",
    "inorder2 = [4, 2, 5, 1, 3]\n",
    "postorder2 = [4, 1, 2, 3, 5]\n",
    "if isSameTree(preorder2, inorder2, postorder2):\n",
    "    print(\"Yes\")\n",
    "else:\n",
    "    print(\"No\")"
   ]
  },
  {
   "cell_type": "code",
   "execution_count": null,
   "id": "2b0c39d4",
   "metadata": {},
   "outputs": [],
   "source": []
  }
 ],
 "metadata": {
  "kernelspec": {
   "display_name": "Python 3 (ipykernel)",
   "language": "python",
   "name": "python3"
  },
  "language_info": {
   "codemirror_mode": {
    "name": "ipython",
    "version": 3
   },
   "file_extension": ".py",
   "mimetype": "text/x-python",
   "name": "python",
   "nbconvert_exporter": "python",
   "pygments_lexer": "ipython3",
   "version": "3.9.12"
  }
 },
 "nbformat": 4,
 "nbformat_minor": 5
}
